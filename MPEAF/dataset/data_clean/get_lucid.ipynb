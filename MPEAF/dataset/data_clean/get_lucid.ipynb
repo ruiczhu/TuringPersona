{
 "cells": [
  {
   "cell_type": "markdown",
   "metadata": {},
   "source": [
    "# 清洗LUCID v1数据\n",
    "- 对对话进行编号\n",
    "- 记录轮次以及对话位置"
   ]
  },
  {
   "cell_type": "code",
   "execution_count": 4,
   "metadata": {},
   "outputs": [
    {
     "name": "stdout",
     "output_type": "stream",
     "text": [
      "Processed data saved to ../cleaned_data/lucid_processed.csv\n",
      "Total conversations: 4277\n",
      "Total messages: 40137\n"
     ]
    }
   ],
   "source": [
    "import json\n",
    "import csv\n",
    "import os\n",
    "from pathlib import Path\n",
    "\n",
    "def process_lucid_data(input_path, output_path=\"lucid_processed.csv\"):\n",
    "    \"\"\"\n",
    "    Process Lucid dataset and convert it to CSV format.\n",
    "    \"\"\"\n",
    "    # Check if input path is a file or directory\n",
    "    input_path = Path(input_path)\n",
    "    if input_path.is_dir():\n",
    "        # Read all JSON files in the directory\n",
    "        files = list(input_path.glob(\"*.json\"))\n",
    "    else:\n",
    "        files = [input_path]\n",
    "    \n",
    "    all_rows = []\n",
    "    total_conversations = 0\n",
    "    \n",
    "    for file_path in files:\n",
    "        with open(file_path, \"r\", encoding=\"utf-8\") as f:\n",
    "            data = json.load(f)\n",
    "        \n",
    "        # Handle both single conversations and lists of conversations\n",
    "        conversations = data if isinstance(data, list) else [data]\n",
    "        \n",
    "        for conversation in conversations:\n",
    "            conversation_id = conversation.get(\"_id\", \"\").replace(\"LUCID_\", \"\")\n",
    "            if not conversation_id:\n",
    "                conversation_id = str(total_conversations)\n",
    "            \n",
    "            messages = []\n",
    "            for turn in conversation[\"turns\"]:\n",
    "                if turn[\"author\"] == \"User\":\n",
    "                    messages.append({\"role\": \"user\", \"content\": turn[\"query\"]})\n",
    "                elif turn[\"author\"] == \"Response\":\n",
    "                    messages.append({\"role\": \"assistant\", \"content\": turn[\"text\"]})\n",
    "            \n",
    "            # Process messages and assign turns and positions\n",
    "            position = 0\n",
    "            turn = 0\n",
    "            for i, msg in enumerate(messages):\n",
    "                all_rows.append({\n",
    "                    \"conversation_id\": conversation_id,\n",
    "                    \"role\": msg[\"role\"],\n",
    "                    \"content\": msg[\"content\"],\n",
    "                    \"turn\": turn,\n",
    "                    \"position\": position\n",
    "                })\n",
    "                position += 1\n",
    "                \n",
    "                # Increment turn after assistant messages (except the last one)\n",
    "                if msg[\"role\"] == \"assistant\" and i < len(messages) - 1:\n",
    "                    turn += 1\n",
    "            \n",
    "            total_conversations += 1\n",
    "    \n",
    "    # Write to CSV\n",
    "    with open(output_path, \"w\", newline=\"\", encoding=\"utf-8\") as f:\n",
    "        writer = csv.DictWriter(f, fieldnames=[\"conversation_id\", \"role\", \"content\", \"turn\", \"position\"])\n",
    "        writer.writeheader()\n",
    "        writer.writerows(all_rows)\n",
    "    \n",
    "    return total_conversations, len(all_rows)\n",
    "\n",
    "# Set your input path where the Lucid data is stored\n",
    "input_path = \"../original_data/ml-lucid-datagen/lucid_v1.0/LUCID_data.json\"  # Update this with your actual path\n",
    "output_path = \"../cleaned_data/lucid_processed.csv\"\n",
    "\n",
    "# Process the data\n",
    "total_conversations, total_messages = process_lucid_data(input_path, output_path)\n",
    "\n",
    "print(f\"Processed data saved to {output_path}\")\n",
    "print(f\"Total conversations: {total_conversations}\")\n",
    "print(f\"Total messages: {total_messages}\")\n",
    "\n",
    "# Processed data saved to lucid_processed.csv\n",
    "# Total conversations: 4277\n",
    "# Total messages: 40137"
   ]
  },
  {
   "cell_type": "code",
   "execution_count": null,
   "metadata": {},
   "outputs": [],
   "source": []
  }
 ],
 "metadata": {
  "kernelspec": {
   "display_name": "test",
   "language": "python",
   "name": "python3"
  },
  "language_info": {
   "codemirror_mode": {
    "name": "ipython",
    "version": 3
   },
   "file_extension": ".py",
   "mimetype": "text/x-python",
   "name": "python",
   "nbconvert_exporter": "python",
   "pygments_lexer": "ipython3",
   "version": "3.10.0"
  }
 },
 "nbformat": 4,
 "nbformat_minor": 2
}
