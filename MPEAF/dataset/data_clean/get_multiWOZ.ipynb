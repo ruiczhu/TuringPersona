{
 "cells": [
  {
   "cell_type": "code",
   "execution_count": 1,
   "metadata": {},
   "outputs": [
    {
     "name": "stdout",
     "output_type": "stream",
     "text": [
      "Data processing complete. Output saved to ../cleaned_data/multiwoz_processed.csv\n",
      "Total conversations processed: 0\n"
     ]
    }
   ],
   "source": [
    "import os\n",
    "import json\n",
    "import csv\n",
    "import glob\n",
    "\n",
    "# Define the path to the MultiWOZ 2.2 dataset\n",
    "data_path = \"..../original_data/multiwoz/data/MultiWOZ_2.2/train\"\n",
    "\n",
    "# Create a list to hold all the conversation data\n",
    "conversation_data = []\n",
    "\n",
    "# Get all JSON files in the directory\n",
    "json_files = glob.glob(os.path.join(data_path, \"*.json\"))\n",
    "\n",
    "# Initialize conversation_id\n",
    "conversation_id = 0\n",
    "\n",
    "# Process each JSON file\n",
    "for json_file in json_files:\n",
    "    with open(json_file, 'r', encoding='utf-8') as f:\n",
    "        data = json.load(f)\n",
    "        \n",
    "        for dialogue in data:\n",
    "            turns = dialogue.get('turns', [])\n",
    "            print(f\"Processing dialogue with {len(turns)} turns.\")\n",
    "            \n",
    "            # Skip empty dialogues\n",
    "            if not turns:\n",
    "                continue\n",
    "            \n",
    "            # Process each turn in the dialogue\n",
    "            position = 0\n",
    "            turn_counter = 0\n",
    "            \n",
    "            for i in range(0, len(turns), 2):\n",
    "                # Get user utterance\n",
    "                if i < len(turns) and turns[i]['speaker'] == 'USER':\n",
    "                    user_utterance = turns[i]['utterance']\n",
    "                    conversation_data.append([\n",
    "                        conversation_id,\n",
    "                        'user',\n",
    "                        user_utterance,\n",
    "                        turn_counter,\n",
    "                        position\n",
    "                    ])\n",
    "                    position += 1\n",
    "                \n",
    "                # Get system response\n",
    "                if i + 1 < len(turns) and turns[i + 1]['speaker'] == 'SYSTEM':\n",
    "                    system_utterance = turns[i + 1]['utterance']\n",
    "                    conversation_data.append([\n",
    "                        conversation_id,\n",
    "                        'assistant',\n",
    "                        system_utterance,\n",
    "                        turn_counter,\n",
    "                        position\n",
    "                    ])\n",
    "                    position += 1\n",
    "                    turn_counter += 1\n",
    "            \n",
    "            # Increment conversation_id for the next dialogue\n",
    "            conversation_id += 1\n",
    "\n",
    "# Write the processed data to a CSV file\n",
    "output_file = \"../cleaned_data/multiwoz_processed.csv\"\n",
    "\n",
    "with open(output_file, 'w', newline='', encoding='utf-8') as csvfile:\n",
    "    csv_writer = csv.writer(csvfile)\n",
    "    # Write the header\n",
    "    csv_writer.writerow(['conversation_id', 'role', 'content', 'turn', 'position'])\n",
    "    # Write the data\n",
    "    csv_writer.writerows(conversation_data)\n",
    "\n",
    "print(f\"Data processing complete. Output saved to {output_file}\")\n",
    "print(f\"Total conversations processed: {conversation_id}\")"
   ]
  },
  {
   "cell_type": "code",
   "execution_count": null,
   "metadata": {},
   "outputs": [],
   "source": []
  }
 ],
 "metadata": {
  "kernelspec": {
   "display_name": "test",
   "language": "python",
   "name": "python3"
  },
  "language_info": {
   "codemirror_mode": {
    "name": "ipython",
    "version": 3
   },
   "file_extension": ".py",
   "mimetype": "text/x-python",
   "name": "python",
   "nbconvert_exporter": "python",
   "pygments_lexer": "ipython3",
   "version": "3.10.0"
  }
 },
 "nbformat": 4,
 "nbformat_minor": 2
}
