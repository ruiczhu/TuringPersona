{
 "cells": [
  {
   "cell_type": "markdown",
   "metadata": {},
   "source": [
    "# 清洗LMSYS-Chat-1M数据\n",
    "- 语言为英文\n",
    "- 对话轮次大于2\n",
    "- 对对话进行编号\n",
    "- 记录轮次以及对话位置\n",
    "- 只有gpt的对话"
   ]
  },
  {
   "cell_type": "code",
   "execution_count": 2,
   "metadata": {},
   "outputs": [
    {
     "name": "stderr",
     "output_type": "stream",
     "text": [
      "Using the latest cached version of the dataset since lmsys/lmsys-chat-1m couldn't be found on the Hugging Face Hub\n",
      "Found the latest cached dataset configuration 'default' at /Users/zhuruichen/.cache/huggingface/datasets/lmsys___lmsys-chat-1m/default/0.0.0/200748d9d3cddcc9d782887541057aca0b18c5da (last modified on Thu Mar 20 18:01:23 2025).\n",
      "Found the latest cached dataset configuration 'default' at /Users/zhuruichen/.cache/huggingface/datasets/lmsys___lmsys-chat-1m/default/0.0.0/200748d9d3cddcc9d782887541057aca0b18c5da (last modified on Thu Mar 20 18:01:23 2025).\n"
     ]
    }
   ],
   "source": [
    "from datasets import load_dataset\n",
    "\n",
    "# Login using e.g. `huggingface-cli login` to access this dataset\n",
    "ds = load_dataset(\"lmsys/lmsys-chat-1m\")"
   ]
  },
  {
   "cell_type": "code",
   "execution_count": 3,
   "metadata": {},
   "outputs": [
    {
     "name": "stdout",
     "output_type": "stream",
     "text": [
      "DatasetDict({\n",
      "    train: Dataset({\n",
      "        features: ['conversation_id', 'model', 'conversation', 'turn', 'language', 'openai_moderation', 'redacted'],\n",
      "        num_rows: 1000000\n",
      "    })\n",
      "})\n"
     ]
    }
   ],
   "source": [
    "print(ds)"
   ]
  },
  {
   "cell_type": "code",
   "execution_count": 4,
   "metadata": {},
   "outputs": [
    {
     "name": "stdout",
     "output_type": "stream",
     "text": [
      "{'conversation_id': ['1e230e55efea4edab95db9cb87f6a9cb'], 'model': ['vicuna-13b'], 'conversation': [[{'content': \"Beside OFAC's selective sanction that target the listed individiuals and entities, please elaborate on the other types of US's sanctions, for example, comprehensive and sectoral sanctions. Please be detailed as much as possible\", 'role': 'user'}, {'content': \"The United States has a number of different types of sanctions that it can use to achieve its foreign policy goals, including both selective and comprehensive sanctions.\\n\\nSelective sanctions are targeted at specific individuals or entities that are believed to be engaged in activities that are contrary to US interests. These sanctions can take a variety of forms, including asset freezes, travel bans, and restrictions on financial transactions. The Office of Foreign Assets Control (OFAC) is the US government agency responsible for implementing and enforcing these types of sanctions.\\n\\nComprehensive sanctions, on the other hand, are more broadly based and aim to restrict entire sectors of a country's economy or to impose a broad ban on certain types of activities. Comprehensive sanctions can be used to achieve a variety of foreign policy goals, such as punishing a country for human rights abuses or obstructing US foreign policy.\\n\\nSectoral sanctions are a type of comprehensive sanction that target specific sectors of a country's economy. These sanctions are intended to have a broader impact on a country's economy and can be used to target key industries such as oil and gas, banking, or transportation. Sectoral sanctions can include restrictions on the import or export of goods or services, as well as restrictions on investment in certain sectors.\\n\\nAnother type of comprehensive sanction is the ban on US exports to a certain country. This type of sanction can be used to punish a country for engaging in activities that are contrary to US interests, such as selling weapons to terrorist groups or engaging in human rights abuses.\\n\\nIt's worth noting that the US has a wide range of tools at its disposal when it comes to imposing economic sanctions, and the specific type of sanction used will depend on the particular situation and the goals of the US government. Additionally, the US may use a combination of different types of sanctions in order to achieve its objectives.\", 'role': 'assistant'}, {'content': \"are there other types of US sanctions that you didn't specified earlier? Please elaborate more\", 'role': 'user'}, {'content': \"Yes, there are several other types of US sanctions that I haven't mentioned earlier.\\n\\nOne type of sanction that the US uses is the visa ban, which restricts the entry of certain individuals into the US. This type of sanction can be used to punish individuals who are believed to be engaged in activities that are contrary to US interests, such as human rights abuses or the proliferation of weapons of mass destruction.\\n\\nAnother type of sanction that the US uses is the exclusion from the US financial system. This type of sanction can be used to prevent individuals or entities from accessing the US financial system, which can have a significant impact on their ability to conduct business.\\n\\nThe US can also impose sanctions on foreign governments, organizations, or individuals by imposing restrictions on their ability to access the US market. This can include restrictions on the import or export of goods or services, as well as restrictions on investment in the US.\\n\\nThe US can also use targeted sanctions against specific individuals or entities, such as imposing asset freezes or travel bans on specific individuals or entities.\\n\\nAnother type of sanction that the US uses is the blocking of property and interests in property. This can include the freezing of assets or the prohibition of transactions involving specific property.\\n\\nFinally, the US can use non-economic sanctions, such as diplomatic isolation, public statements of condemnation, and other measures to isolate or stigmatize a target country or entity.\\n\\nIt's important to note that the US has a wide range of tools at its disposal when it comes to imposing sanctions, and the specific type of sanction used will depend on the particular situation and the goals of the US government.\", 'role': 'assistant'}, {'content': \"please make organized conclusion in bullet list on all types of US's sanctions that you have had given the answers\", 'role': 'user'}, {'content': \"* Selective sanctions: targeted at specific individuals or entities that are believed to be engaged in activities that are contrary to US interests. Examples include asset freezes and travel bans.\\n* Comprehensive sanctions: aim to restrict entire sectors of a country's economy or to impose a broad ban on certain types of activities. Examples include restrictions on the import or export of goods or services, as well as restrictions on investment in certain sectors.\\n* Sectoral sanctions: target specific sectors of a country's economy. Examples include restrictions on the import or export of goods or services, as well as restrictions on investment in certain sectors.\\n* Ban on US exports: used to punish a country for engaging in activities that are contrary to US interests.\\n* Visa ban: restricts the entry of certain individuals into the US. Can be used to punish individuals who are believed to be engaged in activities that are contrary to US interests.\\n* Exclusion from the US financial system: prevents individuals or entities from accessing the US financial system. Can have a significant impact on their ability to conduct business.\\n* Restrictions on access to the US market: can include restrictions on the import or export of goods or services, as well as restrictions on investment in the US.\\n* Targeted sanctions against specific individuals or entities: can include imposing asset freezes or travel bans on specific individuals or entities.\\n* Blocking of property and interests in property: can include the freezing of assets or the prohibition of transactions involving specific property.\\n* Non-economic sanctions: can include diplomatic isolation, public statements of condemnation, and other measures to isolate or stigmatize a target country or entity.\\n\\nIt's important to note that the US has a wide range of tools at its disposal when it comes to imposing sanctions, and the specific type of sanction used will depend on the particular situation and the goals of the US government.\", 'role': 'assistant'}, {'content': 'can you please revise the answer above again, but this time, make sure to specify which types of sanctions are the sub-category', 'role': 'user'}, {'content': \"Sure, here is a revised list of the different types of US sanctions, with the sub-categories included:\\n\\n* Selective sanctions:\\n\\t+ Targeted: aimed at specific individuals or entities\\n\\t+ Comprehensive: aimed at entire sectors of a country's economy or at broadly banning certain activities\\n* Comprehensive sanctions:\\n\\t+ Sectoral: target specific sectors of a country's economy\\n* Sectoral sanctions:\\n\\t+ Targeted: aimed at specific sectors of a country's economy\\n* Ban on US exports:\\n\\t+ Used to punish a country for engaging in activities that are contrary to US interests\\n* Visa ban:\\n\\t+ Used to restrict the entry of certain individuals into the US\\n* Exclusion from the US financial system:\\n\\t+ Prevents individuals or entities from accessing the US financial system\\n* Restrictions on access to the US market:\\n\\t+ Can include restrictions on the import or export of goods or services, as well as restrictions on investment in the US\\n* Targeted sanctions against specific individuals or entities:\\n\\t+ Imposing asset freezes or travel bans on specific individuals or entities\\n* Blocking of property and interests in property:\\n\\t+ Freezing of assets or prohibition of transactions involving specific property\\n* Non-economic sanctions:\\n\\t+ Diplomatic isolation, public statements of condemnation, and other measures to isolate or stigmatize a target country or entity\\n\\nIt's important to note that the US has a wide range of tools at its disposal when it comes to imposing sanctions, and the specific type of sanction used will depend on the particular situation and the goals of the US government.\", 'role': 'assistant'}, {'content': 'if you see a person name stating that it is the registrar of a company in Malta, is registrar is a position and if so, what does he/she do?', 'role': 'user'}, {'content': '', 'role': 'assistant'}, {'content': \"if you see a person's name stating that it is the registrar of a company in Malta, is registrar a position in that company? and if so, what does he/she do?\", 'role': 'user'}, {'content': '', 'role': 'assistant'}]], 'turn': [6], 'language': ['English'], 'openai_moderation': [[{'categories': {'harassment': False, 'harassment/threatening': False, 'hate': False, 'hate/threatening': False, 'self-harm': False, 'self-harm/instructions': False, 'self-harm/intent': False, 'sexual': False, 'sexual/minors': False, 'violence': False, 'violence/graphic': False}, 'category_scores': {'harassment': 7.612839e-05, 'harassment/threatening': 9.07053e-06, 'hate': 3.7790054e-05, 'hate/threatening': 4.1802217e-08, 'self-harm': 2.6739393e-08, 'self-harm/instructions': 3.962927e-09, 'self-harm/intent': 5.7285128e-09, 'sexual': 9.927942e-06, 'sexual/minors': 4.4007415e-08, 'violence': 0.0005177184, 'violence/graphic': 1.00666746e-07}, 'flagged': False}, {'categories': {'harassment': False, 'harassment/threatening': False, 'hate': False, 'hate/threatening': False, 'self-harm': False, 'self-harm/instructions': False, 'self-harm/intent': False, 'sexual': False, 'sexual/minors': False, 'violence': False, 'violence/graphic': False}, 'category_scores': {'harassment': 3.792276e-05, 'harassment/threatening': 4.1762837e-06, 'hate': 3.3284643e-06, 'hate/threatening': 3.8623222e-07, 'self-harm': 2.4959088e-06, 'self-harm/instructions': 1.4745439e-07, 'self-harm/intent': 1.0178268e-07, 'sexual': 0.0001475841, 'sexual/minors': 3.203528e-06, 'violence': 0.004161817, 'violence/graphic': 2.1801043e-05}, 'flagged': False}, {'categories': {'harassment': False, 'harassment/threatening': False, 'hate': False, 'hate/threatening': False, 'self-harm': False, 'self-harm/instructions': False, 'self-harm/intent': False, 'sexual': False, 'sexual/minors': False, 'violence': False, 'violence/graphic': False}, 'category_scores': {'harassment': 6.127256e-05, 'harassment/threatening': 1.562926e-05, 'hate': 3.137255e-05, 'hate/threatening': 9.26207e-07, 'self-harm': 2.043054e-06, 'self-harm/instructions': 8.034339e-08, 'self-harm/intent': 1.8861122e-07, 'sexual': 7.690915e-06, 'sexual/minors': 2.3028772e-06, 'violence': 0.0011478345, 'violence/graphic': 1.2792039e-07}, 'flagged': False}, {'categories': {'harassment': False, 'harassment/threatening': False, 'hate': False, 'hate/threatening': False, 'self-harm': False, 'self-harm/instructions': False, 'self-harm/intent': False, 'sexual': False, 'sexual/minors': False, 'violence': False, 'violence/graphic': False}, 'category_scores': {'harassment': 9.903349e-05, 'harassment/threatening': 1.4656844e-05, 'hate': 5.0438193e-06, 'hate/threatening': 4.2436707e-07, 'self-harm': 1.8621107e-06, 'self-harm/instructions': 5.2153656e-08, 'self-harm/intent': 5.9616916e-08, 'sexual': 7.172444e-05, 'sexual/minors': 2.212972e-07, 'violence': 0.007743997, 'violence/graphic': 3.0749648e-06}, 'flagged': False}, {'categories': {'harassment': False, 'harassment/threatening': False, 'hate': False, 'hate/threatening': False, 'self-harm': False, 'self-harm/instructions': False, 'self-harm/intent': False, 'sexual': False, 'sexual/minors': False, 'violence': False, 'violence/graphic': False}, 'category_scores': {'harassment': 2.6572534e-06, 'harassment/threatening': 4.035875e-06, 'hate': 3.854705e-06, 'hate/threatening': 1.7012027e-08, 'self-harm': 1.0596056e-09, 'self-harm/instructions': 1.10892735e-08, 'self-harm/intent': 3.3188108e-10, 'sexual': 4.2205065e-06, 'sexual/minors': 8.697818e-08, 'violence': 0.00010492169, 'violence/graphic': 7.312502e-08}, 'flagged': False}, {'categories': {'harassment': False, 'harassment/threatening': False, 'hate': False, 'hate/threatening': False, 'self-harm': False, 'self-harm/instructions': False, 'self-harm/intent': False, 'sexual': False, 'sexual/minors': False, 'violence': False, 'violence/graphic': False}, 'category_scores': {'harassment': 1.2709869e-05, 'harassment/threatening': 1.6726275e-06, 'hate': 5.701135e-06, 'hate/threatening': 3.2677258e-07, 'self-harm': 1.6577413e-06, 'self-harm/instructions': 9.041209e-09, 'self-harm/intent': 2.552829e-08, 'sexual': 1.0602667e-05, 'sexual/minors': 2.0205123e-07, 'violence': 0.0047429684, 'violence/graphic': 1.0701458e-07}, 'flagged': False}, {'categories': {'harassment': False, 'harassment/threatening': False, 'hate': False, 'hate/threatening': False, 'self-harm': False, 'self-harm/instructions': False, 'self-harm/intent': False, 'sexual': False, 'sexual/minors': False, 'violence': False, 'violence/graphic': False}, 'category_scores': {'harassment': 0.00040567454, 'harassment/threatening': 0.00015157128, 'hate': 0.00016353221, 'hate/threatening': 1.4227341e-05, 'self-harm': 3.9179213e-06, 'self-harm/instructions': 5.3782073e-06, 'self-harm/intent': 1.276606e-06, 'sexual': 1.6522044e-05, 'sexual/minors': 8.43435e-05, 'violence': 0.00010850304, 'violence/graphic': 3.997721e-05}, 'flagged': False}, {'categories': {'harassment': False, 'harassment/threatening': False, 'hate': False, 'hate/threatening': False, 'self-harm': False, 'self-harm/instructions': False, 'self-harm/intent': False, 'sexual': False, 'sexual/minors': False, 'violence': False, 'violence/graphic': False}, 'category_scores': {'harassment': 0.00013720253, 'harassment/threatening': 2.9036633e-05, 'hate': 5.832669e-05, 'hate/threatening': 1.0548045e-05, 'self-harm': 5.001626e-05, 'self-harm/instructions': 2.5339787e-06, 'self-harm/intent': 7.050669e-06, 'sexual': 4.312589e-05, 'sexual/minors': 1.1233384e-05, 'violence': 0.011475767, 'violence/graphic': 3.71637e-05}, 'flagged': False}, {'categories': {'harassment': False, 'harassment/threatening': False, 'hate': False, 'hate/threatening': False, 'self-harm': False, 'self-harm/instructions': False, 'self-harm/intent': False, 'sexual': False, 'sexual/minors': False, 'violence': False, 'violence/graphic': False}, 'category_scores': {'harassment': 3.822574e-06, 'harassment/threatening': 1.3904642e-07, 'hate': 7.154689e-05, 'hate/threatening': 1.4472268e-07, 'self-harm': 3.8625863e-08, 'self-harm/instructions': 2.5314993e-08, 'self-harm/intent': 9.280629e-09, 'sexual': 7.588867e-07, 'sexual/minors': 4.601982e-08, 'violence': 1.7887325e-05, 'violence/graphic': 2.3868499e-05}, 'flagged': False}, {'categories': {'harassment': False, 'harassment/threatening': False, 'hate': False, 'hate/threatening': False, 'self-harm': False, 'self-harm/instructions': False, 'self-harm/intent': False, 'sexual': False, 'sexual/minors': False, 'violence': False, 'violence/graphic': False}, 'category_scores': {'harassment': 0.003995694, 'harassment/threatening': 0.000102063364, 'hate': 0.0018983986, 'hate/threatening': 0.00028465767, 'self-harm': 0.00012481406, 'self-harm/instructions': 5.6314562e-05, 'self-harm/intent': 0.00021206646, 'sexual': 0.006361129, 'sexual/minors': 0.00035667635, 'violence': 0.006479414, 'violence/graphic': 8.6505745e-05}, 'flagged': False}, {'categories': {'harassment': False, 'harassment/threatening': False, 'hate': False, 'hate/threatening': False, 'self-harm': False, 'self-harm/instructions': False, 'self-harm/intent': False, 'sexual': False, 'sexual/minors': False, 'violence': False, 'violence/graphic': False}, 'category_scores': {'harassment': 1.870895e-05, 'harassment/threatening': 5.8558624e-07, 'hate': 0.00017512498, 'hate/threatening': 8.2407564e-07, 'self-harm': 3.501331e-07, 'self-harm/instructions': 4.1316387e-08, 'self-harm/intent': 5.7399877e-08, 'sexual': 1.4796109e-06, 'sexual/minors': 1.823672e-07, 'violence': 9.926153e-05, 'violence/graphic': 0.00015656665}, 'flagged': False}, {'categories': {'harassment': False, 'harassment/threatening': False, 'hate': False, 'hate/threatening': False, 'self-harm': False, 'self-harm/instructions': False, 'self-harm/intent': False, 'sexual': False, 'sexual/minors': False, 'violence': False, 'violence/graphic': False}, 'category_scores': {'harassment': 0.003995694, 'harassment/threatening': 0.000102063364, 'hate': 0.0018983986, 'hate/threatening': 0.00028465767, 'self-harm': 0.00012481406, 'self-harm/instructions': 5.6314562e-05, 'self-harm/intent': 0.00021206646, 'sexual': 0.006361129, 'sexual/minors': 0.00035667635, 'violence': 0.006479414, 'violence/graphic': 8.6505745e-05}, 'flagged': False}]], 'redacted': [False]}\n"
     ]
    }
   ],
   "source": [
    "first_sample = ds['train'][1:2]\n",
    "print(first_sample)"
   ]
  },
  {
   "cell_type": "code",
   "execution_count": 5,
   "metadata": {},
   "outputs": [
    {
     "name": "stdout",
     "output_type": "stream",
     "text": [
      "Processed data saved to lmsys_processed.csv\n",
      "Total conversations: 5785\n",
      "Total messages: 45362\n"
     ]
    }
   ],
   "source": [
    "import pandas as pd\n",
    "\n",
    "# Filter the dataset\n",
    "filtered_ds = ds['train'].filter(\n",
    "    lambda x: (x['language'] == 'English') and \n",
    "              ('gpt' in x['model'].lower()) and \n",
    "              len(x['conversation']) > 2  # Ensuring more than 1 turn\n",
    ")\n",
    "\n",
    "# Process conversations\n",
    "conversations_data = []\n",
    "\n",
    "for item in filtered_ds:\n",
    "    conversation_id = item['conversation_id']\n",
    "    model = item['model']\n",
    "    conversation = item['conversation']\n",
    "    \n",
    "    current_turn = 0\n",
    "    for i, message in enumerate(conversation):\n",
    "        if not isinstance(message, dict) or 'role' not in message or 'content' not in message:\n",
    "            continue\n",
    "        \n",
    "        role = message['role']\n",
    "        content = message['content']\n",
    "        \n",
    "        # Increment turn when we see a user message (except first one if it's system)\n",
    "        if role == 'user' and i > 0:\n",
    "            current_turn += 1\n",
    "        \n",
    "        # Initialize id_mapping if it doesn't exist yet\n",
    "        if 'id_mapping' not in globals():\n",
    "            globals()['id_mapping'] = {}\n",
    "        \n",
    "        # Convert conversation_id to string for consistency\n",
    "        conv_id_str = str(conversation_id[0]) if isinstance(conversation_id, list) else str(conversation_id)\n",
    "        \n",
    "        # Assign new sequential ID if this conversation hasn't been seen before\n",
    "        if conv_id_str not in globals()['id_mapping']:\n",
    "            globals()['id_mapping'][conv_id_str] = len(globals()['id_mapping'])\n",
    "        \n",
    "        conversations_data.append({\n",
    "            'conversation_id': globals()['id_mapping'][conv_id_str],\n",
    "            'model': model,\n",
    "            'role': role,\n",
    "            'content': content,\n",
    "            'turn': current_turn,\n",
    "            'position': i\n",
    "        })\n",
    "\n",
    "# Create DataFrame\n",
    "df = pd.DataFrame(conversations_data)\n",
    "\n",
    "# Save to CSV\n",
    "df.to_csv('../cleaned_data/lmsys_processed.csv', index=False)\n",
    "\n",
    "print(f\"Processed data saved to lmsys_processed.csv\")\n",
    "print(f\"Total conversations: {len(filtered_ds)}\")\n",
    "print(f\"Total messages: {len(df)}\")\n",
    "\n",
    "# Processed data saved to lmsys_processed.csv\n",
    "# Total conversations: 5785\n",
    "# Total messages: 45362"
   ]
  },
  {
   "cell_type": "code",
   "execution_count": null,
   "metadata": {},
   "outputs": [],
   "source": []
  }
 ],
 "metadata": {
  "kernelspec": {
   "display_name": "test",
   "language": "python",
   "name": "python3"
  },
  "language_info": {
   "codemirror_mode": {
    "name": "ipython",
    "version": 3
   },
   "file_extension": ".py",
   "mimetype": "text/x-python",
   "name": "python",
   "nbconvert_exporter": "python",
   "pygments_lexer": "ipython3",
   "version": "3.10.0"
  }
 },
 "nbformat": 4,
 "nbformat_minor": 2
}
